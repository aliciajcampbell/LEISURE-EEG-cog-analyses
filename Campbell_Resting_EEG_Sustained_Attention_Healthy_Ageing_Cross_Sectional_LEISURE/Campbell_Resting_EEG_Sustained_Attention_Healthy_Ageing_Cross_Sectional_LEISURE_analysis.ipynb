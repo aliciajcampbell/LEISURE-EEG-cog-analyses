{
 "cells": [
  {
   "cell_type": "markdown",
   "metadata": {},
   "source": [
    "## Resting-State EEG Correlates of Sustained Attention in Healthy Ageing: Cross-Sectional Findings from the LEISURE Study\n",
    "\n",
    "Created by Alicia J. Campbell, pertaining to the analysis for:\n",
    "\n",
    "Campbell, A. J., Anijärv, T. E., Pace, T., Treacy, C., Lagopoulos, J., Hermens, D. F., Levenstein, J. M., & Andrews, S. C. (2024). [Resting-state EEG correlates of sustained attention in healthy ageing: Cross-sectional findings from the LEISURE study](https://doi.org/10.1016/j.neurobiolaging.2024.09.005). *Neurobiology of Aging*, 144, 68–77."
   ]
  },
  {
   "cell_type": "markdown",
   "metadata": {},
   "source": [
    "### EEG preprocessing and Spectral Analysis\n",
    "\n",
    "EEG preprocessing and spectral analysis were conducted in a seperate repository. Please see: [EEG-pyline/studies Campbell_Resting_EEG_Sustained_Attention_Healthy_Ageing_Cross_Sectional_LEISURE.ipynb](https://github.com/teanijarv/EEG-pyline/blob/main/studies/Campbell_Resting_EEG_Sustained_Attention_Healthy_Ageing_Cross_Sectional_LEISURE.ipynb)"
   ]
  },
  {
   "cell_type": "markdown",
   "metadata": {},
   "source": [
    "### SART d prime calculation\n",
    "\n",
    "Participants completed the Sustained Attention to Response Task (SART) using E-Prime 2.0.10 software. Calculation of D prime measure can be found in this study folder."
   ]
  },
  {
   "cell_type": "code",
   "execution_count": null,
   "metadata": {},
   "outputs": [],
   "source": [
    "import pandas as pd\n",
    "import matplotlib.pyplot as plt\n",
    "import matplotlib as mpl\n",
    "import statsmodels.api as sm\n",
    "import numpy as np\n",
    "import seaborn as sns\n",
    "import pingouin as pg\n",
    "import warnings\n",
    "from scipy.stats import spearmanr\n",
    "from HLR import HierarchicalLinearRegression\n",
    "from statsmodels.stats.multitest import multipletests\n",
    "\n",
    "warnings.simplefilter(action='ignore', category=FutureWarning)"
   ]
  },
  {
   "cell_type": "markdown",
   "metadata": {},
   "source": [
    "### Sample descriptives. \n",
    "\n",
    "Descriptives described in:\n",
    "-  Table 1. in Supplementary Materials "
   ]
  },
  {
   "cell_type": "markdown",
   "metadata": {},
   "source": [
    "Prior to this, gender was dummy-coded (0=male and 1=female) and outlier corrections were made using the z-score standard deviation transformation method. Specifically, values with z-scores greater than 3.29 or less than -3.29 were modified to one unit above or below the nearest acceptable value. In this sample, an outlier correction was applied to a single data point in the education variable."
   ]
  },
  {
   "cell_type": "code",
   "execution_count": null,
   "metadata": {},
   "outputs": [],
   "source": [
    "fullsample_df = pd.read_excel('data/revision_2/LEISURE_T1_SART_CANTAB_rsEEG_data_revisions_2.xlsx')\n",
    "fullsample_df.describe()"
   ]
  },
  {
   "cell_type": "code",
   "execution_count": null,
   "metadata": {},
   "outputs": [],
   "source": [
    "# Filter the DataFrame to include only ages between 50 and 85\n",
    "filtered_manu_sample_df = fullsample_df[(fullsample_df['Age'] >= 50) & (fullsample_df['Age'] <= 85)]\n",
    "\n",
    "# Create bins for the histogram\n",
    "bins = range(50, 86, 5)  # You can adjust the step to your preference\n",
    "\n",
    "sns.set_style(\"white\")\n",
    "\n",
    "plt.figure(figsize=(8, 6))\n",
    "sns.histplot(filtered_manu_sample_df['Age'], bins=bins, kde=False, edgecolor=None)\n",
    "plt.xlabel('Age (years)', fontsize=12)\n",
    "plt.ylabel('Frequency', fontsize=12)\n",
    "plt.xticks(bins)\n",
    "plt.grid(False)\n",
    "\n",
    "sns.despine()\n",
    "\n",
    "plt.show()"
   ]
  },
  {
   "cell_type": "markdown",
   "metadata": {},
   "source": [
    "### Spearmans Correlations\n",
    "\n",
    "Correlations reported in:\n",
    "\n",
    "3.0 Results \n",
    "- 3.2 Bivariate correlations of demographics, sustained attention, and resting-state EEG measures \n",
    "- Figure 2."
   ]
  },
  {
   "cell_type": "code",
   "execution_count": null,
   "metadata": {},
   "outputs": [],
   "source": [
    "selected_columns = ['Age', 'Education_years_OA', 'Dprime', 'RVPA', 'Alpha_CF_parietooccipital', 'Alpha_absoluteBP_parietooccipital', 'Exponent_global', 'Offset_global']\n",
    "\n",
    "corr = pg.rcorr(fullsample_df[selected_columns], method='spearman', stars=False)\n",
    "corr"
   ]
  },
  {
   "cell_type": "code",
   "execution_count": null,
   "metadata": {},
   "outputs": [],
   "source": [
    "# Initialize the correlation and p-value matrices\n",
    "correlation_matrix = pd.DataFrame(index=selected_columns, columns=selected_columns)\n",
    "p_value_matrix = pd.DataFrame(index=selected_columns, columns=selected_columns)\n",
    "\n",
    "# Store all p-values in a list to apply FDR correction later\n",
    "all_p_values = []\n",
    "p_value_locs = []\n",
    "\n",
    "# Compute pairwise Spearman correlation and p-values\n",
    "for col1 in selected_columns:\n",
    "    for col2 in selected_columns:\n",
    "        if col1 == col2:\n",
    "            # Perfect correlation for diagonal\n",
    "            correlation_matrix.loc[col1, col2] = 1\n",
    "            p_value_matrix.loc[col1, col2] = np.nan  # No p-value for diagonal\n",
    "        else:\n",
    "            # Drop NaNs pairwise for the two columns\n",
    "            valid_data = fullsample_df[[col1, col2]].dropna()\n",
    "            \n",
    "            if not valid_data.empty:  # Check if there's valid data left\n",
    "                corr, p_value = spearmanr(valid_data[col1], valid_data[col2])\n",
    "                correlation_matrix.loc[col1, col2] = round(corr, 2)\n",
    "                p_value_matrix.loc[col1, col2] = p_value\n",
    "                all_p_values.append(p_value)\n",
    "                p_value_locs.append((col1, col2))  # Keep track of the location\n",
    "            else:\n",
    "                correlation_matrix.loc[col1, col2] = np.nan\n",
    "                p_value_matrix.loc[col1, col2] = np.nan\n",
    "\n",
    "# Apply FDR correction to the list of p-values\n",
    "rejected, pvals_corrected, _, _ = multipletests(all_p_values, alpha=0.05, method='fdr_bh')\n",
    "\n",
    "# Replace the original p-values in the matrix with the FDR-corrected p-values\n",
    "for idx, (col1, col2) in enumerate(p_value_locs):\n",
    "    p_value_matrix.loc[col1, col2] = pvals_corrected[idx]\n",
    "\n",
    "# Create a DataFrame to hold both the correlation and p-values in the format you want\n",
    "annot_matrix = correlation_matrix.copy()\n",
    "\n",
    "# Iterate through the p_value_matrix and format the annotations\n",
    "for col1 in selected_columns:\n",
    "    for col2 in selected_columns:\n",
    "        if pd.notna(p_value_matrix.loc[col1, col2]):\n",
    "            if p_value_matrix.loc[col1, col2] < 0.001:\n",
    "                # Replace p-values < 0.001 with the formatted string \"(p<0.001)\"\n",
    "                annot_matrix.loc[col1, col2] = f\"{correlation_matrix.loc[col1, col2]}\\n\" + r\"($\\it{p}$<0.001)\"\n",
    "            else:\n",
    "                # For other p-values, include \"(p=value)\" with p in italics\n",
    "                annot_matrix.loc[col1, col2] = f\"{correlation_matrix.loc[col1, col2]}\\n\" + r\"($\\it{p}$=\" + f\"{round(p_value_matrix.loc[col1, col2], 3)})\"\n",
    "\n",
    "# Rename columns and index for better readability\n",
    "renaming_dict = {\n",
    "    'Education_years_OA': \"Education\", \n",
    "    'RVPA': r\"RVP_$\\it{A'}$\",\n",
    "    'Dprime': r\"SART_$\\it{d'}$\",\n",
    "    'Alpha_CF_parietooccipital': \"IAF\", \n",
    "    'Alpha_absoluteBP_parietooccipital': \"aIAP\", \n",
    "    'Exponent_global': \"Exponent\", \n",
    "    'Offset_global': \"Offset\"\n",
    "}\n",
    "\n",
    "# Apply renaming\n",
    "correlation_matrix.rename(columns=renaming_dict, index=renaming_dict, inplace=True)\n",
    "annot_matrix.rename(columns=renaming_dict, index=renaming_dict, inplace=True)\n",
    "\n",
    "# Create a mask for the upper triangle without the diagonal\n",
    "mask = np.triu(np.ones_like(correlation_matrix, dtype=bool))\n",
    "\n",
    "# Set up the Seaborn theme and color palette\n",
    "fntsize = 11\n",
    "sns.set_theme(style='white')\n",
    "cmap = plt.get_cmap(\"coolwarm\")\n",
    "newcolors = cmap(np.linspace(0, 1, 100))\n",
    "newcolors[99] = mpl.colors.to_rgb('#D85A5A') + (1,)\n",
    "newcmap = mpl.colors.ListedColormap(newcolors)\n",
    "\n",
    "# Generate the heatmap\n",
    "plt.figure(figsize=(8, 8), dpi=300)\n",
    "ax = sns.heatmap(correlation_matrix.astype(float), cmap=newcmap, fmt=\"\", cbar=False, mask=mask, annot=annot_matrix, annot_kws={\"size\": fntsize}, linewidths=.5)\n",
    "\n",
    "# Customize tick labels\n",
    "xticklabels = ax.get_xticklabels()\n",
    "yticklabels = ax.get_yticklabels()\n",
    "\n",
    "xticklabels[-1] = ''\n",
    "yticklabels[0] = ''\n",
    "\n",
    "# Apply the rotation, alignment, and font size\n",
    "ax.set_xticklabels(xticklabels, rotation=30, ha='right', fontsize=fntsize)\n",
    "ax.set_yticklabels(yticklabels, rotation=0, fontsize=fntsize)\n",
    "\n",
    "plt.tight_layout()\n",
    "plt.show()"
   ]
  },
  {
   "cell_type": "markdown",
   "metadata": {},
   "source": [
    "### Heriachical linear regressions\n",
    "\n",
    "Regressions described in:\n",
    "3.0 Results\n",
    "- 3.3 Hierarchical linear regression of resting-state EEG measures and sustained attention\n",
    "- Table 1\n",
    "- Table 2 in Supplementary Materials"
   ]
  },
  {
   "cell_type": "markdown",
   "metadata": {},
   "source": [
    "- Each regression model treated an EEG measure as the main predictor and each sustained attention performance metric, RVP_A’ and SART_d’, as the dependent variables. \n",
    "\n",
    "- In constructing the hierarchical regression models, age (at the time of EEG recording), gender, and years of education were controlled for in the first step. The EEG measure of interest was introduced in the second step, while the third step included the interaction between age and the EEG measure of interest. \n",
    "\n",
    "- Separate regression models were conducted to specifically investigate the interaction between IAF and the exponent on each sustained attention performance metric, RVP_A’ and SART_d’. Age, gender, and years of education were controlled for in the first step, with IAF and the exponent introduced in the second step, and the interaction between IAF and the exponent included in the third step. \n",
    "\n",
    "- Tests were assigned significance at an alpha level of less than 0.05.\n",
    "\n",
    "- Interaction terms were calculated prior by z scoring each variable and multiplying them together"
   ]
  },
  {
   "cell_type": "markdown",
   "metadata": {},
   "source": [
    "#### IAF"
   ]
  },
  {
   "cell_type": "code",
   "execution_count": null,
   "metadata": {},
   "outputs": [],
   "source": [
    "X = {\n",
    "    1: ['Age', 'Gender_F', 'Education_years_OA'],\n",
    "    2: ['Age', 'Gender_F', 'Education_years_OA', 'Alpha_CF_parietooccipital'], \n",
    "    3: ['Age', 'Gender_F', 'Education_years_OA', 'Alpha_CF_parietooccipital', 'Age_Alpha_CF_parietooccipital_interaction']\n",
    "}\n",
    "\n",
    "# List of DVs\n",
    "target_vars = ['Dprime', 'RVPA']\n",
    "\n",
    "# Dictionary to store summaries for each DV\n",
    "summaries = {}\n",
    "\n",
    "# Loop over each DV\n",
    "for y in target_vars:\n",
    "    # Extract all predictor columns from X (dict of lists)\n",
    "    predictor_columns = set()\n",
    "    for predictors in X.values():\n",
    "        predictor_columns.update(predictors)\n",
    "    \n",
    "    # Add the current DV (y) to the list of columns to check for NaN\n",
    "    all_columns = list(predictor_columns) + [y]\n",
    "    \n",
    "    # Drop rows with NaN values in the predictor or DV columns\n",
    "    clean_df = fullsample_df.dropna(subset=all_columns)\n",
    "    \n",
    "    # Run Hierarchical Linear Regression\n",
    "    model = HierarchicalLinearRegression(clean_df, X, y)\n",
    "    summary_df = model.summary()\n",
    "    \n",
    "    # Store the summary dataframe for later display\n",
    "    summaries[y] = summary_df\n",
    "\n",
    "# Display each summary using pandas display function\n",
    "for y, summary_df in summaries.items():\n",
    "    print(f\"Displaying summary for {y}:\")\n",
    "    display(summary_df)  # Display the summary_df for each DV"
   ]
  },
  {
   "cell_type": "markdown",
   "metadata": {},
   "source": [
    "#### IAF x exponent interaction"
   ]
  },
  {
   "cell_type": "code",
   "execution_count": null,
   "metadata": {},
   "outputs": [],
   "source": [
    "X = {\n",
    "    1: ['Age', 'Gender_F', 'Education_years_OA'],\n",
    "    2: ['Age', 'Gender_F', 'Education_years_OA', 'Alpha_CF_parietooccipital', 'Exponent_global'], \n",
    "    3: ['Age', 'Gender_F', 'Education_years_OA', 'Alpha_CF_parietooccipital', 'Exponent_global', 'Alpha_CF_parietooccipital_Exponent_global_interaction']\n",
    "}\n",
    "\n",
    "target_vars = ['Dprime', 'RVPA']\n",
    "\n",
    "summaries = {}\n",
    "\n",
    "for y in target_vars:\n",
    "    predictor_columns = set()\n",
    "    for predictors in X.values():\n",
    "        predictor_columns.update(predictors)\n",
    "    \n",
    "    all_columns = list(predictor_columns) + [y]\n",
    "    \n",
    "    clean_df = fullsample_df.dropna(subset=all_columns)\n",
    "    \n",
    "    model = HierarchicalLinearRegression(clean_df, X, y)\n",
    "    summary_df = model.summary()\n",
    "    \n",
    "    summaries[y] = summary_df\n",
    "\n",
    "for y, summary_df in summaries.items():\n",
    "    print(f\"Displaying summary for {y}:\")\n",
    "    display(summary_df)"
   ]
  },
  {
   "cell_type": "markdown",
   "metadata": {},
   "source": [
    "#### Aperiodic-adjusted alpha power"
   ]
  },
  {
   "cell_type": "code",
   "execution_count": null,
   "metadata": {},
   "outputs": [],
   "source": [
    "X = {\n",
    "    1: ['Age', 'Gender_F', 'Education_years_OA'],\n",
    "    2: ['Age', 'Gender_F', 'Education_years_OA', 'Alpha_absoluteBP_parietooccipital'], \n",
    "    3: ['Age', 'Gender_F', 'Education_years_OA', 'Alpha_absoluteBP_parietooccipital', 'Age_Alpha_absoluteBP_parietooccipital_interaction'] \n",
    "}\n",
    "\n",
    "target_vars = ['Dprime', 'RVPA']\n",
    "\n",
    "summaries = {}\n",
    "\n",
    "for y in target_vars:\n",
    "    predictor_columns = set()\n",
    "    for predictors in X.values():\n",
    "        predictor_columns.update(predictors)\n",
    "    \n",
    "    all_columns = list(predictor_columns) + [y]\n",
    "    \n",
    "    clean_df = fullsample_df.dropna(subset=all_columns)\n",
    "    \n",
    "    model = HierarchicalLinearRegression(clean_df, X, y)\n",
    "    summary_df = model.summary()\n",
    "    \n",
    "    summaries[y] = summary_df\n",
    "\n",
    "for y, summary_df in summaries.items():\n",
    "    print(f\"Displaying summary for {y}:\")\n",
    "    display(summary_df)"
   ]
  },
  {
   "cell_type": "markdown",
   "metadata": {},
   "source": [
    "#### Exponent"
   ]
  },
  {
   "cell_type": "code",
   "execution_count": null,
   "metadata": {},
   "outputs": [],
   "source": [
    "X = {\n",
    "    1: ['Age', 'Gender_F', 'Education_years_OA'],\n",
    "    2: ['Age', 'Gender_F', 'Education_years_OA', 'Exponent_global'], \n",
    "    3: ['Age', 'Gender_F', 'Education_years_OA', 'Exponent_global', 'Age_Exponent_global_interaction'] \n",
    "}\n",
    "\n",
    "target_vars = ['Dprime', 'RVPA']\n",
    "\n",
    "summaries = {}\n",
    "\n",
    "for y in target_vars:\n",
    "    predictor_columns = set()\n",
    "    for predictors in X.values():\n",
    "        predictor_columns.update(predictors)\n",
    "    \n",
    "    all_columns = list(predictor_columns) + [y]\n",
    "    \n",
    "    clean_df = fullsample_df.dropna(subset=all_columns)\n",
    "    \n",
    "    model = HierarchicalLinearRegression(clean_df, X, y)\n",
    "    summary_df = model.summary()\n",
    "    \n",
    "    summaries[y] = summary_df\n",
    "\n",
    "for y, summary_df in summaries.items():\n",
    "    print(f\"Displaying summary for {y}:\")\n",
    "    display(summary_df)"
   ]
  },
  {
   "cell_type": "markdown",
   "metadata": {},
   "source": [
    "#### Offset"
   ]
  },
  {
   "cell_type": "code",
   "execution_count": null,
   "metadata": {},
   "outputs": [],
   "source": [
    "X = {\n",
    "    1: ['Age', 'Gender_F', 'Education_years_OA'],\n",
    "    2: ['Age', 'Gender_F', 'Education_years_OA', 'Offset_global'], \n",
    "    3: ['Age', 'Gender_F', 'Education_years_OA', 'Offset_global', 'Age_Offset_global_interaction']\n",
    "}\n",
    "\n",
    "target_vars = ['Dprime', 'RVPA']\n",
    "\n",
    "summaries = {}\n",
    "\n",
    "for y in target_vars:\n",
    "    predictor_columns = set()\n",
    "    for predictors in X.values():\n",
    "        predictor_columns.update(predictors)\n",
    "    \n",
    "    all_columns = list(predictor_columns) + [y]\n",
    "    \n",
    "    clean_df = fullsample_df.dropna(subset=all_columns)\n",
    "    \n",
    "    model = HierarchicalLinearRegression(clean_df, X, y)\n",
    "    summary_df = model.summary()\n",
    "    \n",
    "    summaries[y] = summary_df\n",
    "\n",
    "for y, summary_df in summaries.items():\n",
    "    print(f\"Displaying summary for {y}:\")\n",
    "    display(summary_df)"
   ]
  },
  {
   "cell_type": "markdown",
   "metadata": {},
   "source": [
    "### Regression Plots"
   ]
  },
  {
   "cell_type": "markdown",
   "metadata": {},
   "source": [
    "#### Regression plot for Figure 3 of significant HLR"
   ]
  },
  {
   "cell_type": "code",
   "execution_count": null,
   "metadata": {},
   "outputs": [],
   "source": [
    "# Regress Dprime on covariates and get residuals (independent variable)\n",
    "X = fullsample_df[['Age', 'Education_years_OA', 'Gender_F']]\n",
    "X = sm.add_constant(X)  # Add constant term for the intercept\n",
    "x = fullsample_df['Dprime']\n",
    "model_x = sm.OLS(x, X).fit()\n",
    "x_resid = model_x.resid  # Residuals of Dprime\n",
    "\n",
    "# Use raw Alpha_CF_parietooccipital (dependent variable)\n",
    "y_raw = fullsample_df['Alpha_CF_parietooccipital']\n",
    "\n",
    "# Create a DataFrame with residuals of Dprime and raw Alpha_CF_parietooccipital\n",
    "residuals_df = pd.DataFrame({'x_resid': x_resid, 'y_raw': y_raw})\n",
    "\n",
    "# Plot the residuals of Dprime against raw Alpha_CF_parietooccipital\n",
    "sns.set_style(\"white\")\n",
    "sns.regplot(x='x_resid', y='y_raw', data=residuals_df, \n",
    "            scatter_kws={'s': 50, 'color': '#6180e9'},    # Set color of dots\n",
    "            line_kws={'color': '#D85A5A'})                # Set color of regression line\n",
    "\n",
    "plt.xlabel(r\"SART_$\\it{d'}$ (residuals)\", fontsize=12)\n",
    "plt.ylabel('IAF', fontsize=12)\n",
    "sns.despine()\n",
    "\n",
    "plt.show()"
   ]
  },
  {
   "cell_type": "markdown",
   "metadata": {},
   "source": [
    "#### Regression plots for Supplementary Materials"
   ]
  },
  {
   "cell_type": "code",
   "execution_count": null,
   "metadata": {
    "vscode": {
     "languageId": "powershell"
    }
   },
   "outputs": [],
   "source": [
    "y_raw = fullsample_df['Exponent_global']\n",
    "\n",
    "X = fullsample_df[['Age', 'Education_years_OA', 'Gender_F']]\n",
    "X = sm.add_constant(X)  \n",
    "x = fullsample_df['RVPA']\n",
    "model_x = sm.OLS(x, X).fit()\n",
    "x_resid = model_x.resid  \n",
    "\n",
    "residuals_df = pd.DataFrame({'x_resid': x_resid, 'y_raw': y_raw})\n",
    "\n",
    "sns.regplot(x='x_resid', y='y_raw', data=residuals_df, \n",
    "            scatter_kws={'s': 50, 'color': '#6180e9'},    \n",
    "            line_kws={'color': '#D85A5A'})                \n",
    "plt.xlabel(r\"RVP_$\\it{A'}$ (residuals)\", fontsize=12)\n",
    "plt.ylabel('Aperiodic exponent', fontsize=12)\n",
    "plt.text(-0.1, 1.1, 'A.', transform=plt.gca().transAxes, fontsize=14, fontweight='bold', va='top', ha='left')\n",
    "\n",
    "sns.despine()\n",
    "\n",
    "plt.show()"
   ]
  },
  {
   "cell_type": "code",
   "execution_count": null,
   "metadata": {
    "vscode": {
     "languageId": "powershell"
    }
   },
   "outputs": [],
   "source": [
    "y_raw = fullsample_df['Exponent_global']\n",
    "\n",
    "X = fullsample_df[['Age', 'Education_years_OA', 'Gender_F']]\n",
    "X = sm.add_constant(X)  \n",
    "x = fullsample_df['Dprime']\n",
    "model_x = sm.OLS(x, X).fit()\n",
    "x_resid = model_x.resid  \n",
    "\n",
    "residuals_df = pd.DataFrame({'x_resid': x_resid, 'y_raw': y_raw})\n",
    "\n",
    "sns.set_style(\"white\")\n",
    "sns.regplot(x='x_resid', y='y_raw', data=residuals_df, \n",
    "            scatter_kws={'s': 50, 'color': '#6180e9'},    \n",
    "            line_kws={'color': '#D85A5A'})                \n",
    "plt.xlabel(r\"SART_$\\it{d'}$ (residuals)\", fontsize=12)\n",
    "plt.ylabel('Aperiodic exponent', fontsize=12)\n",
    "plt.text(-0.1, 1.1, 'B.', transform=plt.gca().transAxes, fontsize=14, fontweight='bold', va='top', ha='left')\n",
    "\n",
    "sns.despine()\n",
    "\n",
    "plt.show()"
   ]
  },
  {
   "cell_type": "code",
   "execution_count": null,
   "metadata": {
    "vscode": {
     "languageId": "powershell"
    }
   },
   "outputs": [],
   "source": [
    "y_raw = fullsample_df['Offset_global']\n",
    "\n",
    "X = fullsample_df[['Age', 'Education_years_OA', 'Gender_F']]\n",
    "X = sm.add_constant(X)  \n",
    "x = fullsample_df['RVPA']\n",
    "model_x = sm.OLS(x, X).fit()\n",
    "x_resid = model_x.resid  \n",
    "\n",
    "residuals_df = pd.DataFrame({'x_resid': x_resid, 'y_raw': y_raw})\n",
    "\n",
    "sns.regplot(x='x_resid', y='y_raw', data=residuals_df, \n",
    "            scatter_kws={'s': 50, 'color': '#6180e9'},    \n",
    "            line_kws={'color': '#D85A5A'})                \n",
    "plt.xlabel(r\"RVP_$\\it{A'}$ (residuals)\", fontsize=12)\n",
    "plt.ylabel('Aperiodic offset', fontsize=12)\n",
    "plt.text(-0.1, 1.1, 'C.', transform=plt.gca().transAxes, fontsize=14, fontweight='bold', va='top', ha='left')\n",
    "\n",
    "sns.despine()\n",
    "\n",
    "plt.show()"
   ]
  },
  {
   "cell_type": "code",
   "execution_count": null,
   "metadata": {
    "vscode": {
     "languageId": "powershell"
    }
   },
   "outputs": [],
   "source": [
    "y_raw = fullsample_df['Offset_global']\n",
    "\n",
    "X = fullsample_df[['Age', 'Education_years_OA', 'Gender_F']]\n",
    "X = sm.add_constant(X)  \n",
    "x = fullsample_df['Dprime']\n",
    "model_x = sm.OLS(x, X).fit()\n",
    "x_resid = model_x.resid  \n",
    "\n",
    "residuals_df = pd.DataFrame({'x_resid': x_resid, 'y_raw': y_raw})\n",
    "\n",
    "sns.regplot(x='x_resid', y='y_raw', data=residuals_df, \n",
    "            scatter_kws={'s': 50, 'color': '#6180e9'},    \n",
    "            line_kws={'color': '#D85A5A'})                \n",
    "plt.xlabel(r\"SART_$\\it{d'}$ (residuals)\", fontsize=12)\n",
    "plt.ylabel('Aperiodic offset', fontsize=12)\n",
    "plt.text(-0.1, 1.1, 'D.', transform=plt.gca().transAxes, fontsize=14, fontweight='bold', va='top', ha='left')\n",
    "\n",
    "sns.despine()\n",
    "\n",
    "plt.show()"
   ]
  },
  {
   "cell_type": "code",
   "execution_count": null,
   "metadata": {
    "vscode": {
     "languageId": "powershell"
    }
   },
   "outputs": [],
   "source": [
    "y_raw = fullsample_df['Alpha_absoluteBP_parietooccipital']\n",
    "\n",
    "X = fullsample_df[['Age', 'Education_years_OA', 'Gender_F']]\n",
    "X = sm.add_constant(X)  \n",
    "x = fullsample_df['RVPA']\n",
    "model_x = sm.OLS(x, X).fit()\n",
    "x_resid = model_x.resid  \n",
    "\n",
    "residuals_df = pd.DataFrame({'x_resid': x_resid, 'y_raw': y_raw})\n",
    "\n",
    "sns.set_style(\"white\")\n",
    "sns.regplot(x='x_resid', y='y_raw', data=residuals_df, \n",
    "            scatter_kws={'s': 50, 'color': '#6180e9'},    \n",
    "            line_kws={'color': '#D85A5A'})                \n",
    "plt.xlabel(r\"RVP_$\\it{A'}$ (residuals)\", fontsize=12)\n",
    "plt.ylabel('aIAP', fontsize=12)\n",
    "plt.text(-0.1, 1.1, 'E.', transform=plt.gca().transAxes, fontsize=14, fontweight='bold', va='top', ha='left')\n",
    "\n",
    "sns.despine()\n",
    "\n",
    "plt.show()"
   ]
  },
  {
   "cell_type": "code",
   "execution_count": null,
   "metadata": {
    "vscode": {
     "languageId": "powershell"
    }
   },
   "outputs": [],
   "source": [
    "y_raw = fullsample_df['Alpha_absoluteBP_parietooccipital']\n",
    "\n",
    "X = fullsample_df[['Age', 'Education_years_OA', 'Gender_F']]\n",
    "X = sm.add_constant(X)  \n",
    "x = fullsample_df['Dprime']\n",
    "model_x = sm.OLS(x, X).fit()\n",
    "x_resid = model_x.resid  \n",
    "\n",
    "residuals_df = pd.DataFrame({'x_resid': x_resid, 'y_raw': y_raw})\n",
    "\n",
    "sns.set_style(\"white\")\n",
    "sns.regplot(x='x_resid', y='y_raw', data=residuals_df, \n",
    "            scatter_kws={'s': 50, 'color': '#6180e9'},    \n",
    "            line_kws={'color': '#D85A5A'})                \n",
    "plt.xlabel(r\"SART_$\\it{d'}$ (residuals)\", fontsize=12)\n",
    "plt.ylabel('aIAP', fontsize=12)\n",
    "plt.text(-0.1, 1.1, 'F.', transform=plt.gca().transAxes, fontsize=14, fontweight='bold', va='top', ha='left')\n",
    "\n",
    "sns.despine()\n",
    "\n",
    "plt.show()"
   ]
  },
  {
   "cell_type": "code",
   "execution_count": null,
   "metadata": {
    "vscode": {
     "languageId": "powershell"
    }
   },
   "outputs": [],
   "source": [
    "y_raw = fullsample_df['Alpha_CF_parietooccipital']\n",
    "\n",
    "X = fullsample_df[['Age', 'Education_years_OA', 'Gender_F']]\n",
    "X = sm.add_constant(X)  \n",
    "x = fullsample_df['RVPA']\n",
    "model_x = sm.OLS(x, X).fit()\n",
    "x_resid = model_x.resid  \n",
    "\n",
    "residuals_df = pd.DataFrame({'x_resid': x_resid, 'y_raw': y_raw})\n",
    "\n",
    "sns.set_style(\"white\")\n",
    "sns.regplot(x='x_resid', y='y_raw', data=residuals_df, \n",
    "            scatter_kws={'s': 50, 'color': '#6180e9'},    \n",
    "            line_kws={'color': '#D85A5A'})                \n",
    "plt.xlabel(r\"RVP_$\\it{A'}$ (residuals)\", fontsize=12)\n",
    "plt.ylabel('IAF', fontsize=12)\n",
    "plt.text(-0.1, 1.1, 'G.', transform=plt.gca().transAxes, fontsize=14, fontweight='bold', va='top', ha='left')\n",
    "\n",
    "sns.despine()\n",
    "\n",
    "plt.show()"
   ]
  },
  {
   "cell_type": "markdown",
   "metadata": {},
   "source": [
    "### Mediation analysis"
   ]
  },
  {
   "cell_type": "markdown",
   "metadata": {},
   "source": [
    "Mediation analysis described in:\n",
    "\n",
    "3.0 Results\n",
    "- 3.4 Mediation analysis\n",
    "\n",
    "was completed in R. The code for this has been included in the folder for this study."
   ]
  }
 ],
 "metadata": {
  "kernelspec": {
   "display_name": "datascience",
   "language": "python",
   "name": "python3"
  },
  "language_info": {
   "codemirror_mode": {
    "name": "ipython",
    "version": 3
   },
   "file_extension": ".py",
   "mimetype": "text/x-python",
   "name": "python",
   "nbconvert_exporter": "python",
   "pygments_lexer": "ipython3",
   "version": "3.12.8"
  }
 },
 "nbformat": 4,
 "nbformat_minor": 2
}
