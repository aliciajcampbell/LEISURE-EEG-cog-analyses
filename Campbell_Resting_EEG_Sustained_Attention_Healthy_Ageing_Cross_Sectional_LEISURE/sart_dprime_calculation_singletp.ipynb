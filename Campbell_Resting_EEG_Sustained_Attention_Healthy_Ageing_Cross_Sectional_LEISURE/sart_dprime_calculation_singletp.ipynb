{
 "cells": [
  {
   "cell_type": "code",
   "execution_count": null,
   "metadata": {},
   "outputs": [],
   "source": [
    "import pandas as pd\n",
    "import matplotlib.pyplot as plt\n",
    "import seaborn as sns\n",
    "sns.set_theme('notebook')\n",
    "from scipy import stats\n",
    "\n",
    "df = pd.read_excel('demo_attention_EC_T1_Main.xlsx')\n",
    "\n",
    "sart_cols= ['Total GO','Total NO-GO','Correct GO','Correct NO-GO','Incorrect GO','Incorrect NO-GO','Average RT (Correct GO)','Average RT (Incorrect NO-GO)','SD RT (Correct GO)','SD RT (Incorrect NO-GO)','Median RT (Correct GO)','Median RT (Incorrect NO-GO)','Minimum RT (Correct GO)','Minimum RT (Incorrect NO-GO)','Maximum RT (Correct GO)','Maximum RT (Incorrect NO-GO)']"
   ]
  },
  {
   "cell_type": "code",
   "execution_count": null,
   "metadata": {},
   "outputs": [],
   "source": [
    "df[sart_cols].describe()"
   ]
  },
  {
   "cell_type": "code",
   "execution_count": null,
   "metadata": {},
   "outputs": [],
   "source": [
    "# Calculating Hit Rate and False Alarm Rate\n",
    "df['Hit rate'] = df['Correct GO'] / df['Total GO']\n",
    "df['False Alarm rate'] = df['Incorrect NO-GO'] / df['Total NO-GO']\n",
    "\n",
    "# Adjusting for Extreme Values with Log-linear Correction (Half-item Correction)\n",
    "df['Adjusted Hit rate'] = (df['Correct GO'] + 0.5) / (df['Total GO'] + 1)\n",
    "df['Adjusted False Alarm rate'] = (df['Incorrect NO-GO'] + 0.5) / (df['Total NO-GO'] + 1)\n",
    "\n",
    "# Z Transformation\n",
    "df['z - Hit rate'] = stats.norm.ppf(df['Adjusted Hit rate'])\n",
    "df['z - False Alarm rate'] = stats.norm.ppf(df['Adjusted False Alarm rate'])\n",
    "\n",
    "# Calculate d'\n",
    "df['D prime'] = df['z - Hit rate'] - df['z - False Alarm rate']\n",
    "\n",
    "# Calculate criterion\n",
    "df['Criterion'] = -0.5 * (df['z - Hit rate'] + df['z - False Alarm rate'])"
   ]
  }
 ],
 "metadata": {
  "kernelspec": {
   "display_name": "Python 3",
   "language": "python",
   "name": "python3"
  },
  "language_info": {
   "codemirror_mode": {
    "name": "ipython",
    "version": 3
   },
   "file_extension": ".py",
   "mimetype": "text/x-python",
   "name": "python",
   "nbconvert_exporter": "python",
   "pygments_lexer": "ipython3",
   "version": "3.12.2"
  }
 },
 "nbformat": 4,
 "nbformat_minor": 2
}
